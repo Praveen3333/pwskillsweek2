{
 "cells": [
  {
   "cell_type": "code",
   "execution_count": 7,
   "id": "c8ab9063-4243-413e-9a80-15b96bf456ad",
   "metadata": {},
   "outputs": [
    {
     "name": "stdout",
     "output_type": "stream",
     "text": [
      "pw skills\n",
      "Multiline comments\n",
      "Multiplies the value of a and b\n"
     ]
    }
   ],
   "source": [
    "#1\n",
    "\"\"\"Comments in Python are the lines in the code that are ignored by the interpreter during the execution of the program. Comments enhance the readability of the code and help the programmers to understand the code very carefully. \n",
    "There are three types of comments in Python:\n",
    "Single line Comments\n",
    "Multiline Comments\n",
    "Docstring Comments\"\"\"\n",
    "# sample comment\n",
    "name = \"pw skills\"\n",
    "print(name)\n",
    "\"\"\" Python program to demonstrate\n",
    " multiline comments\"\"\"\n",
    "print(\"Multiline comments\")\n",
    "def multiply(a, b):\n",
    "    \"\"\"Multiplies the value of a and b\"\"\"\n",
    "    return a*b\n",
    " \n",
    " \n",
    "# Print the docstring of multiply function\n",
    "print(multiply.__doc__)"
   ]
  },
  {
   "cell_type": "code",
   "execution_count": 8,
   "id": "1f943e20-9e84-4007-b516-a954a87eaeee",
   "metadata": {},
   "outputs": [
    {
     "name": "stdout",
     "output_type": "stream",
     "text": [
      "1\n"
     ]
    }
   ],
   "source": [
    "#2\n",
    "#A variable is a string of characters and numbers associated with a piece of information. The assignment operator, denoted by the “=” symbol, is the operator that is used to assign values to variables in Python. The line x=1 takes the known value, 1, and assigns that value to the variable with name “x”.\n",
    "x = 1\n",
    "print(x)"
   ]
  },
  {
   "cell_type": "code",
   "execution_count": 12,
   "id": "0c152003-edcc-41af-88e9-dc9b240d89d0",
   "metadata": {},
   "outputs": [
    {
     "name": "stdout",
     "output_type": "stream",
     "text": [
      "10\n",
      "3.14\n",
      "42\n",
      "True\n",
      "[1, 2, 3]\n",
      "(1, 2, 3)\n",
      "{'name': 'John', 'age': 20}\n"
     ]
    }
   ],
   "source": [
    "#3\n",
    "#In Python, you can convert one data type to another using type conversion functions or constructors. Here are some commonly used methods for data type conversion:\n",
    "#Implicit Conversion: Python automatically performs implicit type conversion (also known as coercion) when it's safe to do so. For example, when performing operations between different numeric types, Python will automatically convert one type to another based on the rules of type promotion.\n",
    "#Explicit Conversion: You can explicitly convert data from one type to another using the following methods:\n",
    "num = int(\"10\")\n",
    "print(num)\n",
    "num = float(\"3.14\")\n",
    "print(num)\n",
    "text = str(42)\n",
    "print(text)\n",
    "is_valid = bool(1)\n",
    "print(is_valid)\n",
    "numbers = list((1, 2, 3))\n",
    "print(numbers)\n",
    "coordinates = tuple([1, 2, 3]) \n",
    "print(coordinates)\n",
    "student_info = dict([('name', 'John'), ('age', 20)]) \n",
    "print(student_info)"
   ]
  },
  {
   "cell_type": "code",
   "execution_count": 18,
   "id": "af597fc9-a411-4f5d-a6b7-dcdd6e5ca2a1",
   "metadata": {},
   "outputs": [
    {
     "name": "stdout",
     "output_type": "stream",
     "text": [
      "Hello World!\n"
     ]
    }
   ],
   "source": [
    "#4\n",
    "#!/usr/bin/env python3\n",
    "\n",
    "print('Hello World!')\n",
    " #python3 hello.py\n",
    "#Hello World!\n",
    "#python3 hello.py > output.txt"
   ]
  },
  {
   "cell_type": "code",
   "execution_count": 19,
   "id": "cbf995e3-6cd3-4984-a6e4-7ee6fdc1dbec",
   "metadata": {},
   "outputs": [
    {
     "name": "stdout",
     "output_type": "stream",
     "text": [
      "[2, 3]\n"
     ]
    }
   ],
   "source": [
    "#5\n",
    "my_list = [1, 2, 3, 4, 5]\n",
    "sub_list = my_list[1:3]\n",
    "print(sub_list)\n",
    "\n",
    "\n",
    "\n",
    "\n",
    "\n",
    "\n",
    "\n"
   ]
  },
  {
   "cell_type": "code",
   "execution_count": 20,
   "id": "0caaf884-b4b4-4a5a-920d-1bc55e380d55",
   "metadata": {},
   "outputs": [
    {
     "name": "stdout",
     "output_type": "stream",
     "text": [
      "Output: (5+7j)\n"
     ]
    }
   ],
   "source": [
    "#6\n",
    "#Complex numbers are created from two real numbers. You can create it directly or you can use the complex function. It is written in the form of (x + yj) where x and y are real numbers and j is an imaginary number which is the square root of -1.\n",
    "#complex([real[, imag]])\n",
    "z = complex(5, 7)\n",
    "print(\"Output:\", z)"
   ]
  },
  {
   "cell_type": "code",
   "execution_count": 22,
   "id": "f3aa434f-32b9-41c7-99ab-06c966f92895",
   "metadata": {},
   "outputs": [],
   "source": [
    "#7\n",
    "age = 25"
   ]
  },
  {
   "cell_type": "code",
   "execution_count": 23,
   "id": "fbb4135d-0f8c-4248-848c-90ef8aef854e",
   "metadata": {},
   "outputs": [
    {
     "name": "stdout",
     "output_type": "stream",
     "text": [
      "9.99\n"
     ]
    },
    {
     "data": {
      "text/plain": [
       "float"
      ]
     },
     "execution_count": 23,
     "metadata": {},
     "output_type": "execute_result"
    }
   ],
   "source": [
    "#8\n",
    "price = 9.99\n",
    "print(price)\n",
    "type(price)"
   ]
  },
  {
   "cell_type": "code",
   "execution_count": 24,
   "id": "23ab09ff-9974-4524-b3c9-28911104b160",
   "metadata": {},
   "outputs": [
    {
     "name": "stdout",
     "output_type": "stream",
     "text": [
      "Lomada Praveen\n"
     ]
    }
   ],
   "source": [
    "#9\n",
    "name = \"Lomada Praveen\"\n",
    "print(name)"
   ]
  },
  {
   "cell_type": "code",
   "execution_count": 25,
   "id": "3d6d6bdd-f526-4218-94b3-3e900dee17ca",
   "metadata": {},
   "outputs": [
    {
     "name": "stdout",
     "output_type": "stream",
     "text": [
      "World\n"
     ]
    }
   ],
   "source": [
    "string = \"Hello, World!\"\n",
    "substring = string[7:12]\n",
    "print(substring)"
   ]
  },
  {
   "cell_type": "code",
   "execution_count": 28,
   "id": "ba4b84ff-2d39-490f-8395-e7344342e5c5",
   "metadata": {},
   "outputs": [
    {
     "name": "stdout",
     "output_type": "stream",
     "text": [
      "True\n"
     ]
    }
   ],
   "source": [
    "is_student = True\n",
    "print(is_student)"
   ]
  },
  {
   "cell_type": "code",
   "execution_count": null,
   "id": "84a221fd-8e02-418d-b3b2-bcd88b5f43f0",
   "metadata": {},
   "outputs": [],
   "source": []
  }
 ],
 "metadata": {
  "kernelspec": {
   "display_name": "Python 3 (ipykernel)",
   "language": "python",
   "name": "python3"
  },
  "language_info": {
   "codemirror_mode": {
    "name": "ipython",
    "version": 3
   },
   "file_extension": ".py",
   "mimetype": "text/x-python",
   "name": "python",
   "nbconvert_exporter": "python",
   "pygments_lexer": "ipython3",
   "version": "3.10.8"
  }
 },
 "nbformat": 4,
 "nbformat_minor": 5
}
